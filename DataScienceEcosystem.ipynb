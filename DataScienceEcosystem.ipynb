{
 "cells": [
  {
   "cell_type": "markdown",
   "id": "6da15c7a",
   "metadata": {},
   "source": [
    "# Data Science Tools and Ecosystem"
   ]
  },
  {
   "cell_type": "markdown",
   "id": "f7717d1c",
   "metadata": {},
   "source": [
    "In this notebook, Data Science Tools and Ecosystem are summarised"
   ]
  },
  {
   "cell_type": "markdown",
   "id": "6ae54edb",
   "metadata": {},
   "source": [
    "Some of the popular languages that are used by Data Scientists are:\n",
    "1. Python\n",
    "2. R\n",
    "3. SQL\n",
    "4. Julia\n",
    "5. MATLAB\n",
    "6. Scala...;\n"
   ]
  },
  {
   "cell_type": "markdown",
   "id": "478e1e76",
   "metadata": {},
   "source": [
    "Some of the commonly used libraries by Data Scientist include:\n",
    "  1. TensorFlow.\n",
    "  2. NumPy.\n",
    "  3. SciPy.\n",
    "  4. Pandas.\n",
    "  5. Matplotlib.\n",
    "  6. SciKit-Learn.\n",
    "  7. PyTorch. etc.. ;"
   ]
  },
  {
   "cell_type": "markdown",
   "id": "9fa85570",
   "metadata": {},
   "source": [
    "|Data Science Tools|\n",
    "|---|\n",
    "|SAS|\n",
    "|Apache Hadoop|\n",
    "|TensorFlow|\n",
    "|Anaconda|\n",
    "|Zepplin|\n",
    "|Spyder|"
   ]
  },
  {
   "cell_type": "markdown",
   "id": "9934b4ac",
   "metadata": {},
   "source": [
    "### Few example for evaluating arithmetic expressions in Python are:"
   ]
  },
  {
   "cell_type": "code",
   "execution_count": 1,
   "id": "32f9170d",
   "metadata": {},
   "outputs": [
    {
     "data": {
      "text/plain": [
       "25"
      ]
     },
     "execution_count": 1,
     "metadata": {},
     "output_type": "execute_result"
    }
   ],
   "source": [
    "# Multiplication then Addition\n",
    "(10*2)+5"
   ]
  },
  {
   "cell_type": "code",
   "execution_count": 3,
   "id": "7d4bd78f",
   "metadata": {},
   "outputs": [
    {
     "data": {
      "text/plain": [
       "13.333333333333334"
      ]
     },
     "execution_count": 3,
     "metadata": {},
     "output_type": "execute_result"
    }
   ],
   "source": [
    "# Converting 800 minutes to hours using arithmetic operation\n",
    "800/60"
   ]
  },
  {
   "cell_type": "markdown",
   "id": "ff890d8d",
   "metadata": {},
   "source": [
    "__Objective__\n",
    "\n",
    "* List popular languages for Data Science\n",
    "* List popular Libraries for Data Science\n",
    "* List of Well known Data Science Tools\n",
    "* How to Provide comments in the cell"
   ]
  },
  {
   "cell_type": "markdown",
   "id": "a84744fc",
   "metadata": {},
   "source": [
    "## Author\n",
    "Piyush Majumdar\n"
   ]
  }
 ],
 "metadata": {
  "kernelspec": {
   "display_name": "Python 3 (ipykernel)",
   "language": "python",
   "name": "python3"
  },
  "language_info": {
   "codemirror_mode": {
    "name": "ipython",
    "version": 3
   },
   "file_extension": ".py",
   "mimetype": "text/x-python",
   "name": "python",
   "nbconvert_exporter": "python",
   "pygments_lexer": "ipython3",
   "version": "3.9.12"
  }
 },
 "nbformat": 4,
 "nbformat_minor": 5
}
